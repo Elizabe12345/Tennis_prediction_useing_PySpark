{
 "cells": [
  {
   "cell_type": "code",
   "execution_count": 1,
   "id": "a49cc7db",
   "metadata": {},
   "outputs": [],
   "source": [
    "from pyspark.sql import SparkSession\n",
    "from pyspark.ml.feature import VectorAssembler, StringIndexer,StandardScaler\n",
    "from pyspark.ml.classification import LinearSVC\n",
    "from pyspark.ml.tuning import CrossValidator, ParamGridBuilder\n",
    "from pyspark.ml.evaluation import BinaryClassificationEvaluator, MulticlassClassificationEvaluator\n",
    "from pyspark.sql.functions import col"
   ]
  },
  {
   "cell_type": "code",
   "execution_count": 2,
   "id": "f847e84b",
   "metadata": {},
   "outputs": [],
   "source": [
    "spark = SparkSession.builder.appName(\"TennisSVM\").getOrCreate()"
   ]
  },
  {
   "cell_type": "code",
   "execution_count": 3,
   "id": "7ae366ed",
   "metadata": {},
   "outputs": [],
   "source": [
    "df = spark.read.csv(\"./game_based_df.csv\", header=True, inferSchema=True)"
   ]
  },
  {
   "cell_type": "code",
   "execution_count": 4,
   "id": "8960351e",
   "metadata": {},
   "outputs": [],
   "source": [
    "input_columns = [\n",
    "    'G_P1GmWon', 'G_P2GmWon', 'G_Ser', 'G_P1Ace', 'G_P2Ace', 'G_P1Wn', 'G_P2Wn', \n",
    "    'G_P1Df', 'G_P2Df', 'G_P1UE', 'G_P2UE', 'G_P1NP', 'G_P2NP', 'G_P1NPW', 'G_P2NPW', \n",
    "    'G_P1BP', 'G_P2BP', 'G_P1BPWon', 'G_P2BPWon', 'G_P1FW', 'G_P1BW', 'G_P2FW', 'G_P2BW', \n",
    "    'G_P1SerW', 'G_P2SerW', 'G_avg_SerSp'\n",
    "]"
   ]
  },
  {
   "cell_type": "code",
   "execution_count": 5,
   "id": "17c3093c",
   "metadata": {},
   "outputs": [],
   "source": [
    "indexer = StringIndexer(inputCol=\"SetWinP\", outputCol=\"label\")\n",
    "df = indexer.fit(df).transform(df)\n",
    "# 将输入特征列合并为一个特征向量\n",
    "assembler = VectorAssembler(inputCols=input_columns, outputCol=\"features\")\n",
    "df = assembler.transform(df)"
   ]
  },
  {
   "cell_type": "code",
   "execution_count": 6,
   "id": "230bc211",
   "metadata": {},
   "outputs": [],
   "source": [
    "# Scale the features \n",
    "scaler = StandardScaler(inputCol=\"features\", outputCol=\"scaled_features\")\n",
    "scaler_model = scaler.fit(df)\n",
    "df = scaler_model.transform(df)"
   ]
  },
  {
   "cell_type": "code",
   "execution_count": 7,
   "id": "c217a1ab",
   "metadata": {},
   "outputs": [],
   "source": [
    "train_df, test_df = df.randomSplit([0.8, 0.2], seed=1234)\n",
    "\n",
    "df = df.repartition(50)  # 适当调整分区数\n",
    "\n",
    "# 调整超参数：减少最大迭代次数和容忍度\n",
    "svm = LinearSVC(featuresCol=\"features\", labelCol=\"label\", maxIter=50, tol=1e-4)\n",
    "\n",
    "param_grid = ParamGridBuilder() \\\n",
    "    .addGrid(svm.regParam, [0.01, 0.1, 1.0]) \\\n",
    "    .addGrid(svm.maxIter, [10, 50, 100]) \\\n",
    "    .addGrid(svm.tol, [1e-4, 1e-5, 1e-6]) \\\n",
    "    .build()\n",
    "\n",
    "# Initialize the evaluator\n",
    "evaluator = BinaryClassificationEvaluator(labelCol=\"label\", rawPredictionCol=\"prediction\")\n",
    "\n",
    "# Set up CrossValidator for hyperparameter tuning\n",
    "crossval = CrossValidator(estimator=svm,\n",
    "                          estimatorParamMaps=param_grid,\n",
    "                          evaluator=evaluator,\n",
    "                          numFolds=3)  # 3-fold cross-validation\n",
    "cv_model = crossval.fit(train_df)\n",
    "predictions = cv_model.transform(test_df)"
   ]
  },
  {
   "cell_type": "code",
   "execution_count": 15,
   "id": "93b4b089",
   "metadata": {},
   "outputs": [
    {
     "name": "stdout",
     "output_type": "stream",
     "text": [
      "Precision: 0.7462141868366962\n",
      "Recall: 0.7390220597399361\n",
      "F1 Score: 0.7426007096639532\n"
     ]
    }
   ],
   "source": [
    "TP = predictions.filter((col(\"prediction\") == 1) & (col(\"label\") == 1)).count()\n",
    "FP = predictions.filter((col(\"prediction\") == 1) & (col(\"label\") == 0)).count()\n",
    "TN = predictions.filter((col(\"prediction\") == 0) & (col(\"label\") == 0)).count()\n",
    "FN = predictions.filter((col(\"prediction\") == 0) & (col(\"label\") == 1)).count()\n",
    "\n",
    "# 精确率 = TP / (TP + FP)\n",
    "precision_manual = TP / (TP + FP) if (TP + FP) != 0 else 0\n",
    "# 召回率 = TP / (TP + FN)\n",
    "recall_manual = TP / (TP + FN) if (TP + FN) != 0 else 0\n",
    "# F1分数 = 2 * (精确率 * 召回率) / (精确率 + 召回率)\n",
    "f1_score_manual = 2 * (precision_manual * recall_manual) / (precision_manual + recall_manual) if (precision_manual + recall_manual) != 0 else 0\n",
    "\n",
    "print(f\"Precision: {precision_manual}\")\n",
    "print(f\"Recall: {recall_manual}\")\n",
    "print(f\"F1 Score: {f1_score_manual}\")"
   ]
  },
  {
   "cell_type": "code",
   "execution_count": 30,
   "id": "57a86278",
   "metadata": {},
   "outputs": [
    {
     "name": "stdout",
     "output_type": "stream",
     "text": [
      "Precision: 0.8355882271533153\n"
     ]
    }
   ],
   "source": [
    "evaluator = BinaryClassificationEvaluator(labelCol=\"label\")\n",
    "precision = evaluator.evaluate(predictions)\n",
    "print(f\"Precision: {precision}\")"
   ]
  },
  {
   "cell_type": "code",
   "execution_count": null,
   "id": "3e40a3ac",
   "metadata": {},
   "outputs": [],
   "source": []
  }
 ],
 "metadata": {
  "kernelspec": {
   "display_name": "Python 3 (ipykernel)",
   "language": "python",
   "name": "python3"
  },
  "language_info": {
   "codemirror_mode": {
    "name": "ipython",
    "version": 3
   },
   "file_extension": ".py",
   "mimetype": "text/x-python",
   "name": "python",
   "nbconvert_exporter": "python",
   "pygments_lexer": "ipython3",
   "version": "3.8.17"
  }
 },
 "nbformat": 4,
 "nbformat_minor": 5
}
