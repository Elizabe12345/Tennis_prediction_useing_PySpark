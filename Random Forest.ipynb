{
 "cells": [
  {
   "cell_type": "code",
   "execution_count": 1,
   "id": "f25700f2",
   "metadata": {},
   "outputs": [],
   "source": [
    "from pyspark.sql import SparkSession\n",
    "from pyspark.ml.feature import VectorAssembler,StringIndexer\n",
    "from pyspark.ml.classification import RandomForestClassifier\n",
    "from pyspark.ml.tuning import CrossValidator, ParamGridBuilder\n",
    "from pyspark.ml.evaluation import BinaryClassificationEvaluator\n",
    "from pyspark.sql.functions import col"
   ]
  },
  {
   "cell_type": "code",
   "execution_count": 2,
   "id": "06862c84",
   "metadata": {},
   "outputs": [],
   "source": [
    "spark = SparkSession.builder.appName(\"TennisRandomForest\").getOrCreate()"
   ]
  },
  {
   "cell_type": "code",
   "execution_count": 3,
   "id": "0aaea1d5",
   "metadata": {},
   "outputs": [],
   "source": [
    "df = spark.read.csv(\"./game_based_df.csv\", header=True, inferSchema=True).sample(fraction=0.5, seed=1234)"
   ]
  },
  {
   "cell_type": "code",
   "execution_count": 4,
   "id": "63d4a299",
   "metadata": {},
   "outputs": [],
   "source": [
    "indexer = StringIndexer(inputCol=\"SetWinP\", outputCol=\"label\")\n",
    "df = indexer.fit(df).transform(df)"
   ]
  },
  {
   "cell_type": "code",
   "execution_count": 5,
   "id": "d1b13983",
   "metadata": {},
   "outputs": [],
   "source": [
    "feature_columns = ['G_P1GmWon', 'G_P2GmWon', 'G_Ser', 'G_P1Ace', 'G_P2Ace', 'G_P1Wn', \n",
    "                   'G_P2Wn', 'G_P1Df', 'G_P2Df', 'G_P1UE', 'G_P2UE', 'G_P1NP', 'G_P2NP', \n",
    "                   'G_P1NPW', 'G_P2NPW', 'G_P1BP', 'G_P2BP', 'G_P1BPWon', 'G_P2BPWon', \n",
    "                   'G_P1FW', 'G_P1BW', 'G_P2FW', 'G_P2BW', 'G_P1SerW', 'G_P2SerW', \n",
    "                   'G_avg_SerSp']\n",
    "label_column = \"label\""
   ]
  },
  {
   "cell_type": "code",
   "execution_count": 6,
   "id": "5e954dbd",
   "metadata": {},
   "outputs": [],
   "source": [
    "# 数据预处理：将特征列合并为一个特征向量\n",
    "assembler = VectorAssembler(inputCols=feature_columns, outputCol='features')\n",
    "df = assembler.transform(df)\n",
    "\n",
    "# 将数据切分为训练集和测试集\n",
    "train_data, test_data = df.randomSplit([0.8, 0.2], seed=1234)\n",
    "\n",
    "# 初始化随机森林分类器\n",
    "rf = RandomForestClassifier(labelCol=label_column, featuresCol='features')\n",
    "\n",
    "# 使用二分类评估器\n",
    "evaluator = BinaryClassificationEvaluator(labelCol=label_column)\n",
    "\n",
    "# 设置交叉验证的参数网格\n",
    "param_grid = ParamGridBuilder().addGrid(rf.numTrees, [10, 20]).addGrid(rf.maxDepth, [5, 10]).build()\n",
    "\n",
    "# 配置交叉验证\n",
    "crossval = CrossValidator(estimator=rf, \n",
    "                          estimatorParamMaps=param_grid,\n",
    "                          evaluator=evaluator,\n",
    "                          numFolds=3)  # 3折交叉验证\n"
   ]
  },
  {
   "cell_type": "code",
   "execution_count": 7,
   "id": "5136aa8c",
   "metadata": {},
   "outputs": [],
   "source": [
    "# 训练模型\n",
    "cv_model = crossval.fit(train_data)\n",
    "\n",
    "# 使用交叉验证后的最佳模型进行预测\n",
    "predictions = cv_model.transform(test_data)"
   ]
  },
  {
   "cell_type": "code",
   "execution_count": 11,
   "id": "8b61c640",
   "metadata": {},
   "outputs": [
    {
     "name": "stdout",
     "output_type": "stream",
     "text": [
      "AUC: 0.8345238066364642\n",
      "Best Model Parameters:\n",
      "Number of Trees: 20\n",
      "Max Depth: <bound method _DecisionTreeParams.getMaxDepth of RandomForestClassificationModel: uid=RandomForestClassifier_f331438830f7, numTrees=20, numClasses=2, numFeatures=26>\n",
      "Max Bins: <bound method _DecisionTreeParams.getMaxBins of RandomForestClassificationModel: uid=RandomForestClassifier_f331438830f7, numTrees=20, numClasses=2, numFeatures=26>\n"
     ]
    }
   ],
   "source": [
    "# 评估模型\n",
    "auc = evaluator.evaluate(predictions)\n",
    "print(f\"AUC: {auc}\")\n",
    "\n",
    "# 打印最佳模型的参数\n",
    "best_model = cv_model.bestModel\n",
    "print(\"Best Model Parameters:\")\n",
    "print(f\"Number of Trees: {best_model.getNumTrees}\")\n",
    "print(f\"Max Depth: {best_model.getMaxDepth}\")\n",
    "print(f\"Max Bins: {best_model.getMaxBins}\")"
   ]
  }
 ],
 "metadata": {
  "kernelspec": {
   "display_name": "Python 3 (ipykernel)",
   "language": "python",
   "name": "python3"
  },
  "language_info": {
   "codemirror_mode": {
    "name": "ipython",
    "version": 3
   },
   "file_extension": ".py",
   "mimetype": "text/x-python",
   "name": "python",
   "nbconvert_exporter": "python",
   "pygments_lexer": "ipython3",
   "version": "3.8.17"
  }
 },
 "nbformat": 4,
 "nbformat_minor": 5
}
